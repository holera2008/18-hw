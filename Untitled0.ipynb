{
  "nbformat": 4,
  "nbformat_minor": 0,
  "metadata": {
    "colab": {
      "provenance": [],
      "authorship_tag": "ABX9TyNTy2ZXfXvUb+hKU2a7sZ5V",
      "include_colab_link": true
    },
    "kernelspec": {
      "name": "python3",
      "display_name": "Python 3"
    },
    "language_info": {
      "name": "python"
    }
  },
  "cells": [
    {
      "cell_type": "markdown",
      "metadata": {
        "id": "view-in-github",
        "colab_type": "text"
      },
      "source": [
        "<a href=\"https://colab.research.google.com/github/holera2008/18-hw/blob/main/Untitled0.ipynb\" target=\"_parent\"><img src=\"https://colab.research.google.com/assets/colab-badge.svg\" alt=\"Open In Colab\"/></a>"
      ]
    },
    {
      "cell_type": "code",
      "execution_count": 8,
      "metadata": {
        "colab": {
          "base_uri": "https://localhost:8080/"
        },
        "id": "NLJQdOLUui8A",
        "outputId": "656df7fd-cc7f-4056-d1c5-10fbb17308d5"
      },
      "outputs": [
        {
          "output_type": "stream",
          "name": "stdout",
          "text": [
            "\n"
          ]
        }
      ],
      "source": [
        "from datetime import datetime, timedelta\n",
        "\n",
        "users = [\n",
        "    {\n",
        "        \"name\": \"Bill\",\n",
        "        \"birthday\": \"2000-05-20\"\n",
        "    },\n",
        "    {\n",
        "        \"name\": \"Till\",\n",
        "        \"birthday\": \"1995-05-21\"\n",
        "    },\n",
        "    {\n",
        "        \"name\": \"Alyona\",\n",
        "        \"birthday\": \"2004-05-22\"\n",
        "    },\n",
        "{\n",
        "        \"name\": \"Sasha\",\n",
        "        \"birthday\": \"2000-05-23\"\n",
        "    },\n",
        "]\n",
        "\n",
        "\n",
        "def get_birthday_per_week(users: list[dict]) -> dict:\n",
        "    weekdict = {\n",
        "        0: \"Monday\",\n",
        "        1: \"Tuesday\",\n",
        "        2: \"Wednesday\",\n",
        "        3: \"Thursday\",\n",
        "        4: \"Friday\",\n",
        "        5: \"Monday\",\n",
        "        6: \"Monday\"\n",
        "    }\n",
        "    result = {}\n",
        "    date_now = datetime.now()\n",
        "    for i in users:\n",
        "        birthday = i.get('birthday', None)\n",
        "        birthday = datetime.strptime(birthday, '%Y-%m-%d')\n",
        "        other_birthday = birthday.replace(year=date_now.year)\n",
        "        difference = other_birthday.date() - date_now.date()\n",
        "        day_week = weekdict.get(difference, None)\n",
        "        for k, v in i.items():\n",
        "            if v == i.get('name') and day_week == 'Monday' or v == i.get('name') and day_week == 'Tuesday'\\\n",
        "                or v == i.get('name') and day_week == 'Wednesday' or v == i.get('name') and day_week == 'Thursday' \\\n",
        "                or v == i.get('name') and day_week == 'Friday':\n",
        "                        result.update({day_week: v})\n",
        "    return result\n",
        "\n",
        "\n",
        "def get_beauty_print(dict1: dict) -> str:\n",
        "    string = ''\n",
        "    for k, v in dict1.items():\n",
        "        string += f'{k}: {v}' + '\\n'\n",
        "    return string\n",
        "\n",
        "\n",
        "if __name__ == \"__main__\":\n",
        "    print(get_beauty_print(get_birthday_per_week(users)))"
      ]
    }
  ]
}